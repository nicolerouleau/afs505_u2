{
 "cells": [
  {
   "cell_type": "code",
   "execution_count": 1,
   "metadata": {},
   "outputs": [],
   "source": [
    "#import numpy\\n\n",
    "import numpy as np"
   ]
  },
  {
   "cell_type": "markdown",
   "metadata": {},
   "source": [
    "###Task 1a: Setup\\n,\n",
    "\\n,\n",
    "In the practice notebook, import the following packages:\\n,\n",
    "+ `numpy` as `np`"
   ]
  },
  {
   "cell_type": "markdown",
   "metadata": {},
   "source": [
    "##2. The NumPy Array\\n,\n",
    "Using built-in Python lists, arrays are created in the following way:\\n,\n",
    "\\n,\n",
    "```python\\n,\n",
    "# A 1-dimensional list of numbers.\\n,\n",
    "my_array = [1,2,3] \\n,\n",
    "\\n\n",
    "# A 2-dimensional list of numbers.\\n,\n",
    "my_2d_array = [[1,2,3],[4,5,6]]\\n,\n",
    "\\n\n",
    "# A 3-dimensional list of numbers. \\n,\n",
    "my_3d_array = [[[1,2,3],[4,5,6]],[[7,8,9],[10,11,12]]]\\n,\n",
    "\\n\n",
    "# Two lists of boolean values\\n,\n",
    "a = [True, True, False, False]\\n,\n",
    "b = [False, False, True, True]\\n,\n",
    "\\n"
   ]
  },
  {
   "cell_type": "markdown",
   "metadata": {},
   "source": [
    "```python\\n,\n",
    "# A 1-dimensional list of numbers.\\n,\n",
    "my_array = np.array([1,2,3])\\n,\n",
    "\\n,\n",
    "# A 2-dimensional list of numbers.\\n,\n",
    "my_2d_array = np.array([[1,2,3],[4,5,6]])\\n,\n",
    "\\n,\n",
    "# A 3-dimensional list of numbers. \\n,\n",
    "my_3d_array = np.array([[[1,2,3],[4,5,6]],[[7,8,9],[10,11,12]]])\\n,\n",
    "\\n\n",
    "# Two lists of boolean values\\n,\n",
    "a = np.array([True, True, False, False])\\n,\n",
    "b = np.array([False, False, True, True])\\n,\n",
    "```\\n,\n",
    "\\n"
   ]
  },
  {
   "cell_type": "markdown",
   "metadata": {},
   "source": [
    "## Task 2a: Creating Arrays\\n,\n",
    "\\n,\n",
    "one_array = np.array([1,1,1])\\n,\n",
    "two_array = np.array([[1,1,1],[2,2,2]])\\n,\n",
    "three_array = np.array([[[1,1,1],[2,2,2]],[[3,3,3],[4,4,4]]]\\n,"
   ]
  },
  {
   "cell_type": "code",
   "execution_count": 38,
   "metadata": {},
   "outputs": [
    {
     "name": "stdout",
     "output_type": "stream",
     "text": [
      "[1 1 1]\n",
      "[[1 1 1]\n",
      " [2 2 2]]\n",
      "[[[1 1 1]\n",
      "  [2 2 2]]\n",
      "\n",
      " [[3 3 3]\n",
      "  [4 4 4]]]\n"
     ]
    }
   ],
   "source": [
    "# 2a\n",
    "one_array = np.array([1,1,1])\n",
    "two_array = np.array([[1,1,1],[2,2,2]])\n",
    "three_array = np.array([[[1,1,1],[2,2,2]],[[3,3,3],[4,4,4]]])\n",
    "print(one_array)\n",
    "print(two_array)\n",
    "print(three_array)"
   ]
  },
  {
   "cell_type": "code",
   "execution_count": 39,
   "metadata": {},
   "outputs": [
    {
     "name": "stdout",
     "output_type": "stream",
     "text": [
      "[[[1 2 3]\n",
      "  [4 5 6]]\n",
      "\n",
      " [[7 8 9]\n",
      "  [1 2 3]]]\n",
      "3\n",
      "(2, 2, 3)\n",
      "int64\n",
      "<built-in method item of numpy.ndarray object at 0x11d8b3c60>\n",
      "12\n",
      "<memory at 0x11105ad50>\n",
      "96\n"
     ]
    }
   ],
   "source": [
    "# 3a\n",
    "my_array = np.array([[[1,2,3],[4,5,6]],[[7,8,9],[1,2,3]]])\n",
    "#prints array\n",
    "print(my_array)\n",
    "#prints number of dimensions for the array\n",
    "print(my_array.ndim)\n",
    "#prints tuple of array dimensions\n",
    "print(my_array.shape)\n",
    "#prints data type\n",
    "print(my_array.dtype)\n",
    "#prints the method of array\n",
    "print(my_array.item)\n",
    "#prints number of elements in array\n",
    "print(my_array.size)\n",
    "#prints buffer object pointing to strat of array's data\n",
    "print(my_array.data)\n",
    "#prints total bytes consumed by the elements of the array\n",
    "print(my_array.nbytes)"
   ]
  },
  {
   "cell_type": "code",
   "execution_count": 70,
   "metadata": {},
   "outputs": [
    {
     "name": "stdout",
     "output_type": "stream",
     "text": [
      "[[1. 1. 1.]\n",
      " [1. 1. 1.]]\n",
      "[[0. 0.]]\n",
      "[[6.e-323 0.e+000 0.e+000 0.e+000]\n",
      " [0.e+000 0.e+000 0.e+000 0.e+000]\n",
      " [0.e+000 0.e+000 0.e+000 0.e+000]]\n",
      "[[3 3]\n",
      " [3 3]]\n",
      "[0 1 2]\n",
      "[4. 5. 6. 7. 8.]\n",
      "0.7153060281844948\n"
     ]
    }
   ],
   "source": [
    "# 4a\n",
    "# prints an array of ones\n",
    "ones = np.ones((2,3))\n",
    "print(ones)\n",
    "# prints and array of zeros\n",
    "zeros = np.zeros((1,2))\n",
    "print(zeros)\n",
    "#returns new array of given shape and type without initializing entries\n",
    "empty = np.empty((3,4))\n",
    "print(empty)\n",
    "#returns new array of given shape and type without initializing entries\n",
    "fulls = np.full((2,2), 3)\n",
    "print(fulls)\n",
    "#return evenly spaced values within given interval\n",
    "ara = np.arange(3)\n",
    "print(ara)\n",
    "#print evenly spaced numbers over an interval\n",
    "space = np.linspace(4.0, 8.0, num=5)\n",
    "print(space)\n",
    "#returns random floats in interval [0.0, 1.0]\n",
    "rando = np.random.random_sample()\n",
    "print(rando)"
   ]
  },
  {
   "cell_type": "code",
   "execution_count": 67,
   "metadata": {},
   "outputs": [
    {
     "name": "stdout",
     "output_type": "stream",
     "text": [
      "[[1. 1. 1. 1.]\n",
      " [1. 1. 1. 1.]\n",
      " [1. 1. 1. 1.]]\n",
      "[[0.40983627 0.34242919 0.46596863 0.85778943]\n",
      " [0.93397182 0.68235654 0.67169396 0.07720732]\n",
      " [0.97699087 0.88952318 0.46448938 0.48974968]]\n"
     ]
    },
    {
     "data": {
      "text/plain": [
       "array([[1.40983627, 1.34242919, 1.46596863, 1.85778943],\n",
       "       [1.93397182, 1.68235654, 1.67169396, 1.07720732],\n",
       "       [1.97699087, 1.88952318, 1.46448938, 1.48974968]])"
      ]
     },
     "execution_count": 67,
     "metadata": {},
     "output_type": "execute_result"
    }
   ],
   "source": [
    "# 5.1\n",
    "demo_a = np.ones((3,4))\n",
    "demo_b = np.random.random((3,4))\n",
    "print(demo_a)\n",
    "print(demo_b)\n",
    "demo_a + demo_b "
   ]
  },
  {
   "cell_type": "code",
   "execution_count": 71,
   "metadata": {},
   "outputs": [
    {
     "name": "stdout",
     "output_type": "stream",
     "text": [
      "[[1. 1. 1. 1.]\n",
      " [1. 1. 1. 1.]\n",
      " [1. 1. 1. 1.]]\n",
      "[0 1 2 3]\n"
     ]
    },
    {
     "data": {
      "text/plain": [
       "array([[1., 2., 3., 4.],\n",
       "       [1., 2., 3., 4.],\n",
       "       [1., 2., 3., 4.]])"
      ]
     },
     "execution_count": 71,
     "metadata": {},
     "output_type": "execute_result"
    }
   ],
   "source": [
    "## 5.2\n",
    "#create the arrays\n",
    "demo_c = np.ones((3,4))\n",
    "demo_d = np.arange(4)\n",
    "print(demo_c)\n",
    "print(demo_d)\n",
    "demo_c + demo_d"
   ]
  },
  {
   "cell_type": "code",
   "execution_count": 73,
   "metadata": {},
   "outputs": [
    {
     "name": "stdout",
     "output_type": "stream",
     "text": [
      "[[1. 1. 1. 1.]\n",
      " [1. 1. 1. 1.]\n",
      " [1. 1. 1. 1.]]\n",
      "[[[0.53124239 0.11849018 0.18916708 0.04601341]]\n",
      "\n",
      " [[0.49790991 0.82229719 0.02791056 0.92986125]]\n",
      "\n",
      " [[0.1253962  0.05305783 0.41106595 0.55256445]]\n",
      "\n",
      " [[0.83529386 0.33027253 0.18937384 0.23824314]]\n",
      "\n",
      " [[0.07588098 0.64888041 0.60704429 0.71789515]]]\n",
      "[[[1.53124239 1.11849018 1.18916708 1.04601341]\n",
      "  [1.53124239 1.11849018 1.18916708 1.04601341]\n",
      "  [1.53124239 1.11849018 1.18916708 1.04601341]]\n",
      "\n",
      " [[1.49790991 1.82229719 1.02791056 1.92986125]\n",
      "  [1.49790991 1.82229719 1.02791056 1.92986125]\n",
      "  [1.49790991 1.82229719 1.02791056 1.92986125]]\n",
      "\n",
      " [[1.1253962  1.05305783 1.41106595 1.55256445]\n",
      "  [1.1253962  1.05305783 1.41106595 1.55256445]\n",
      "  [1.1253962  1.05305783 1.41106595 1.55256445]]\n",
      "\n",
      " [[1.83529386 1.33027253 1.18937384 1.23824314]\n",
      "  [1.83529386 1.33027253 1.18937384 1.23824314]\n",
      "  [1.83529386 1.33027253 1.18937384 1.23824314]]\n",
      "\n",
      " [[1.07588098 1.64888041 1.60704429 1.71789515]\n",
      "  [1.07588098 1.64888041 1.60704429 1.71789515]\n",
      "  [1.07588098 1.64888041 1.60704429 1.71789515]]]\n"
     ]
    }
   ],
   "source": [
    "## 5.3\n",
    "demo_e = np.ones((3,4))\n",
    "demo_f = np.random.random((5, 1, 4))\n",
    "print(demo_e)\n",
    "print(demo_f)\n",
    "result = demo_e + demo_f\n",
    "print(result)"
   ]
  },
  {
   "cell_type": "code",
   "execution_count": 88,
   "metadata": {},
   "outputs": [
    {
     "name": "stdout",
     "output_type": "stream",
     "text": [
      "[[1. 1. 1.]\n",
      " [1. 1. 1.]]\n",
      "[[[0.31080175 0.935504   0.33917383]]\n",
      "\n",
      " [[0.95335489 0.72533556 0.91644024]]\n",
      "\n",
      " [[0.72685589 0.11930646 0.46544427]]\n",
      "\n",
      " [[0.9896889  0.72819201 0.68100857]]]\n",
      "[[[1.31080175 1.935504   1.33917383]\n",
      "  [1.31080175 1.935504   1.33917383]]\n",
      "\n",
      " [[1.95335489 1.72533556 1.91644024]\n",
      "  [1.95335489 1.72533556 1.91644024]]\n",
      "\n",
      " [[1.72685589 1.11930646 1.46544427]\n",
      "  [1.72685589 1.11930646 1.46544427]]\n",
      "\n",
      " [[1.9896889  1.72819201 1.68100857]\n",
      "  [1.9896889  1.72819201 1.68100857]]]\n",
      "[[[0.68919825 0.064496   0.66082617]\n",
      "  [0.68919825 0.064496   0.66082617]]\n",
      "\n",
      " [[0.04664511 0.27466444 0.08355976]\n",
      "  [0.04664511 0.27466444 0.08355976]]\n",
      "\n",
      " [[0.27314411 0.88069354 0.53455573]\n",
      "  [0.27314411 0.88069354 0.53455573]]\n",
      "\n",
      " [[0.0103111  0.27180799 0.31899143]\n",
      "  [0.0103111  0.27180799 0.31899143]]]\n",
      "[[[-0.68919825 -0.064496   -0.66082617]\n",
      "  [-0.68919825 -0.064496   -0.66082617]]\n",
      "\n",
      " [[-0.04664511 -0.27466444 -0.08355976]\n",
      "  [-0.04664511 -0.27466444 -0.08355976]]\n",
      "\n",
      " [[-0.27314411 -0.88069354 -0.53455573]\n",
      "  [-0.27314411 -0.88069354 -0.53455573]]\n",
      "\n",
      " [[-0.0103111  -0.27180799 -0.31899143]\n",
      "  [-0.0103111  -0.27180799 -0.31899143]]]\n",
      "[[[0.31080175 0.935504   0.33917383]\n",
      "  [0.31080175 0.935504   0.33917383]]\n",
      "\n",
      " [[0.95335489 0.72533556 0.91644024]\n",
      "  [0.95335489 0.72533556 0.91644024]]\n",
      "\n",
      " [[0.72685589 0.11930646 0.46544427]\n",
      "  [0.72685589 0.11930646 0.46544427]]\n",
      "\n",
      " [[0.9896889  0.72819201 0.68100857]\n",
      "  [0.9896889  0.72819201 0.68100857]]]\n"
     ]
    }
   ],
   "source": [
    "###5a\n",
    "\n",
    "raya = np.ones((2,3))\n",
    "rayb = np.random.random((4, 1, 3))\n",
    "print(raya)\n",
    "print(rayb)\n",
    "added = raya + rayb\n",
    "print(added)\n",
    "subbeda = raya - rayb\n",
    "print(subbeda)\n",
    "subbedb = rayb - raya\n",
    "print(subbedb)\n",
    "mult = raya * rayb\n",
    "print(mult)"
   ]
  },
  {
   "cell_type": "code",
   "execution_count": 4,
   "metadata": {
    "scrolled": false
   },
   "outputs": [
    {
     "name": "stdout",
     "output_type": "stream",
     "text": [
      "[[1. 1. 1. 1. 1.]\n",
      " [1. 1. 1. 1. 1.]]\n",
      "10.0\n",
      "[[0.13487592 0.22357879 0.50104841]\n",
      " [0.59291716 0.74268276 0.79859496]\n",
      " [0.47275829 0.05617881 0.22194187]\n",
      " [0.7801652  0.12347553 0.34613713]]\n"
     ]
    },
    {
     "ename": "ValueError",
     "evalue": "invalid number of arguments",
     "output_type": "error",
     "traceback": [
      "\u001b[0;31m---------------------------------------------------------------------------\u001b[0m",
      "\u001b[0;31mValueError\u001b[0m                                Traceback (most recent call last)",
      "\u001b[0;32m<ipython-input-4-1e4df16347e0>\u001b[0m in \u001b[0;36m<module>\u001b[0;34m\u001b[0m\n\u001b[1;32m      8\u001b[0m \u001b[0mprint\u001b[0m\u001b[0;34m(\u001b[0m\u001b[0mray2\u001b[0m\u001b[0;34m)\u001b[0m\u001b[0;34m\u001b[0m\u001b[0;34m\u001b[0m\u001b[0m\n\u001b[1;32m      9\u001b[0m \u001b[0;31m#minimum element wise of array\u001b[0m\u001b[0;34m\u001b[0m\u001b[0;34m\u001b[0m\u001b[0;34m\u001b[0m\u001b[0m\n\u001b[0;32m---> 10\u001b[0;31m \u001b[0mminray2\u001b[0m \u001b[0;34m=\u001b[0m \u001b[0mnp\u001b[0m\u001b[0;34m.\u001b[0m\u001b[0mminimum\u001b[0m\u001b[0;34m(\u001b[0m\u001b[0mray2\u001b[0m\u001b[0;34m)\u001b[0m\u001b[0;34m\u001b[0m\u001b[0;34m\u001b[0m\u001b[0m\n\u001b[0m\u001b[1;32m     11\u001b[0m \u001b[0mprint\u001b[0m\u001b[0;34m(\u001b[0m\u001b[0mminray2\u001b[0m\u001b[0;34m)\u001b[0m\u001b[0;34m\u001b[0m\u001b[0;34m\u001b[0m\u001b[0m\n\u001b[1;32m     12\u001b[0m \u001b[0;31m#maximum element wise of array\u001b[0m\u001b[0;34m\u001b[0m\u001b[0;34m\u001b[0m\u001b[0;34m\u001b[0m\u001b[0m\n",
      "\u001b[0;31mValueError\u001b[0m: invalid number of arguments"
     ]
    }
   ],
   "source": [
    "###6a\n",
    "ray1 = np.ones((2,5))\n",
    "print(ray1)\n",
    "# sum of array elements\n",
    "sumray1 = np.sum(ray1)\n",
    "print(sumray1)\n",
    "ray2 = np.random.random((4,3))\n",
    "print(ray2)\n",
    "#minimum element wise of array\n",
    "minray2 = np.minimum(ray2)\n",
    "print(minray2)\n",
    "#maximum element wise of array\n",
    "maxray2 = np.max(ray2)\n",
    "print(maxray2)\n",
    "ray3 = np.array([[3,4],[2,2]])\n",
    "print(ray3)\n",
    "# returns cumulative sum of elements\n",
    "cumray3 = np.cumsum(ray3)\n",
    "print(cumray3)\n",
    "#returns mean from elements\n",
    "meanray3 = np.mean(ray3)\n",
    "print(meanray3)\n",
    "ray4 = np.arange(3,6)\n",
    "print(ray4)\n",
    "# returns product moment correlation coefficients\n",
    "np.corrcoef(ray4)\n",
    "ray5 = np.array([[[1,7],[2,4]],[[3,6],[4,2]]])\n",
    "print(ray5)\n",
    "# returns standard deviation of elements\n",
    "stdray5 = np.std(ray5)\n",
    "print(stdray5)\n",
    "# returns variance of elements\n",
    "varray5 = np.var(ray5)\n",
    "print(varray5)"
   ]
  },
  {
   "cell_type": "code",
   "execution_count": 103,
   "metadata": {},
   "outputs": [
    {
     "name": "stdout",
     "output_type": "stream",
     "text": [
      "[ True  True  True  True]\n",
      "[False False False False]\n"
     ]
    }
   ],
   "source": [
    "#6.1\n",
    "a = [True, True, False, False]\n",
    "b = [False, False, True, True]\n",
    "boom = np.logical_or(a, b)\n",
    "print(boom)\n",
    "yeah = np.logical_and(a, b)\n",
    "print(yeah)"
   ]
  },
  {
   "cell_type": "code",
   "execution_count": 105,
   "metadata": {},
   "outputs": [
    {
     "name": "stdout",
     "output_type": "stream",
     "text": [
      "[ True  True  True False]\n",
      "[False False  True False]\n",
      "[False False False  True]\n"
     ]
    }
   ],
   "source": [
    "#6b\n",
    "one = [True, True, True, False]\n",
    "two = [False, False, True, False]\n",
    "ch_or = np.logical_or(one, two)\n",
    "#compute truth values of x1 OR x2 element wise\n",
    "print(ch_or)\n",
    "#compute truth values of x1 AND x2 element wise\n",
    "ch_and = np.logical_and(one, two)\n",
    "print(ch_and)\n",
    "#compute truth values of NOT element wise\n",
    "ch_not = np.logical_not(one)\n",
    "print(ch_not)"
   ]
  }
 ],
 "metadata": {
  "kernelspec": {
   "display_name": "Python 3",
   "language": "python",
   "name": "python3"
  },
  "language_info": {
   "codemirror_mode": {
    "name": "ipython",
    "version": 3
   },
   "file_extension": ".py",
   "mimetype": "text/x-python",
   "name": "python",
   "nbconvert_exporter": "python",
   "pygments_lexer": "ipython3",
   "version": "3.7.4"
  }
 },
 "nbformat": 4,
 "nbformat_minor": 2
}
