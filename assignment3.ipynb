{
 "cells": [
  {
   "cell_type": "markdown",
   "metadata": {},
   "source": [
    "# Lesson 3 Practice: Pandas Part 1\n",
    "\n",
    "Use this notebook to follow along with the lesson in the corresponding lesson notebook: [L03-Pandas_Part1-Lesson.ipynb](./L03-Pandas_Part1-Lesson.ipynb).  "
   ]
  },
  {
   "cell_type": "markdown",
   "metadata": {},
   "source": [
    "## Instructions\n",
    "Follow along with the teaching material in the lesson. Throughout the tutorial sections labeled as \"Tasks\" are interspersed and indicated with the icon: ![Task](http://icons.iconarchive.com/icons/sbstnblnd/plateau/16/Apps-gnome-info-icon.png). You should follow the instructions provided in these sections by performing them in the practice notebook.  When the tutorial is completed you can turn in the final practice notebook. For each task, use the cell below it to write and test your code.  You may add additional cells for any task as needed or desired.  "
   ]
  },
  {
   "cell_type": "markdown",
   "metadata": {},
   "source": [
    "## Task 1a: Setup\n",
    "\n",
    "+ `numpy` as `np`\n",
    "+ `pandas` as `pd`\n"
   ]
  },
  {
   "cell_type": "code",
   "execution_count": 1,
   "metadata": {},
   "outputs": [],
   "source": [
    "import numpy as np\n",
    "import pandas as pd"
   ]
  },
  {
   "cell_type": "markdown",
   "metadata": {},
   "source": [
    "## Task 2a Create a `pd.Series` object\n",
    "\n",
    "+ Create a series of your own design."
   ]
  },
  {
   "cell_type": "code",
   "execution_count": 2,
   "metadata": {},
   "outputs": [
    {
     "data": {
      "text/plain": [
       "0     1\n",
       "1    13\n",
       "2    18\n",
       "3    20\n",
       "dtype: int64"
      ]
     },
     "execution_count": 2,
     "metadata": {},
     "output_type": "execute_result"
    }
   ],
   "source": [
    "ser = pd.Series([1,13,18,20])\n",
    "ser"
   ]
  },
  {
   "cell_type": "markdown",
   "metadata": {},
   "source": [
    "## Task 2b: Creating a DataFrame\n",
    "\n",
    "+ Create a pd.DataFrame object from a Python dictionary. Design the data as you like."
   ]
  },
  {
   "cell_type": "code",
   "execution_count": 3,
   "metadata": {},
   "outputs": [
    {
     "data": {
      "text/html": [
       "<div>\n",
       "<style scoped>\n",
       "    .dataframe tbody tr th:only-of-type {\n",
       "        vertical-align: middle;\n",
       "    }\n",
       "\n",
       "    .dataframe tbody tr th {\n",
       "        vertical-align: top;\n",
       "    }\n",
       "\n",
       "    .dataframe thead th {\n",
       "        text-align: right;\n",
       "    }\n",
       "</style>\n",
       "<table border=\"1\" class=\"dataframe\">\n",
       "  <thead>\n",
       "    <tr style=\"text-align: right;\">\n",
       "      <th></th>\n",
       "      <th>amount of dogs</th>\n",
       "      <th>number of boops</th>\n",
       "    </tr>\n",
       "  </thead>\n",
       "  <tbody>\n",
       "    <tr>\n",
       "      <td>0</td>\n",
       "      <td>4</td>\n",
       "      <td>40</td>\n",
       "    </tr>\n",
       "    <tr>\n",
       "      <td>1</td>\n",
       "      <td>5</td>\n",
       "      <td>100</td>\n",
       "    </tr>\n",
       "    <tr>\n",
       "      <td>2</td>\n",
       "      <td>6</td>\n",
       "      <td>300</td>\n",
       "    </tr>\n",
       "    <tr>\n",
       "      <td>3</td>\n",
       "      <td>7</td>\n",
       "      <td>800</td>\n",
       "    </tr>\n",
       "    <tr>\n",
       "      <td>4</td>\n",
       "      <td>8</td>\n",
       "      <td>1000</td>\n",
       "    </tr>\n",
       "  </tbody>\n",
       "</table>\n",
       "</div>"
      ],
      "text/plain": [
       "   amount of dogs  number of boops\n",
       "0               4               40\n",
       "1               5              100\n",
       "2               6              300\n",
       "3               7              800\n",
       "4               8             1000"
      ]
     },
     "execution_count": 3,
     "metadata": {},
     "output_type": "execute_result"
    }
   ],
   "source": [
    "df = pd.DataFrame(\n",
    "    {'amount of dogs': [4, 5, 6, 7, 8],\n",
    "     'number of boops': [40,100,300,800,1000]})\n",
    "df"
   ]
  },
  {
   "cell_type": "markdown",
   "metadata": {},
   "source": [
    "## Task 2c: Create DataFrame with labels\n",
    "\n",
    "+ Create a 10x5 dataframe of random numeric integers that follow a [Guassian (normal) Distribution](https://docs.scipy.org/doc/numpy-1.15.0/reference/generated/numpy.random.normal.html). \n",
    "  + Center the distrubtion at 0.85.\n",
    "  + We will use these values as assumed grades for a class of students\n",
    "+ Adjust the row indexes to be the names of hypothetical students.\n",
    "+ Adjust the columsn to be the names of hypothetical projects, homework, exam names, etc."
   ]
  },
  {
   "cell_type": "code",
   "execution_count": 8,
   "metadata": {},
   "outputs": [
    {
     "data": {
      "text/html": [
       "<div>\n",
       "<style scoped>\n",
       "    .dataframe tbody tr th:only-of-type {\n",
       "        vertical-align: middle;\n",
       "    }\n",
       "\n",
       "    .dataframe tbody tr th {\n",
       "        vertical-align: top;\n",
       "    }\n",
       "\n",
       "    .dataframe thead th {\n",
       "        text-align: right;\n",
       "    }\n",
       "</style>\n",
       "<table border=\"1\" class=\"dataframe\">\n",
       "  <thead>\n",
       "    <tr style=\"text-align: right;\">\n",
       "      <th></th>\n",
       "      <th>Project</th>\n",
       "      <th>Exam</th>\n",
       "      <th>HW1</th>\n",
       "      <th>HW2</th>\n",
       "      <th>HW3</th>\n",
       "    </tr>\n",
       "  </thead>\n",
       "  <tbody>\n",
       "    <tr>\n",
       "      <td>A</td>\n",
       "      <td>1.107875</td>\n",
       "      <td>0.790535</td>\n",
       "      <td>1.416473</td>\n",
       "      <td>0.951145</td>\n",
       "      <td>1.556353</td>\n",
       "    </tr>\n",
       "    <tr>\n",
       "      <td>B</td>\n",
       "      <td>0.349375</td>\n",
       "      <td>-0.180913</td>\n",
       "      <td>1.418652</td>\n",
       "      <td>0.130512</td>\n",
       "      <td>0.689288</td>\n",
       "    </tr>\n",
       "    <tr>\n",
       "      <td>C</td>\n",
       "      <td>-0.277072</td>\n",
       "      <td>2.220043</td>\n",
       "      <td>2.335409</td>\n",
       "      <td>3.277101</td>\n",
       "      <td>0.811588</td>\n",
       "    </tr>\n",
       "    <tr>\n",
       "      <td>D</td>\n",
       "      <td>1.624289</td>\n",
       "      <td>1.935197</td>\n",
       "      <td>-0.335732</td>\n",
       "      <td>-0.576438</td>\n",
       "      <td>0.771470</td>\n",
       "    </tr>\n",
       "    <tr>\n",
       "      <td>E</td>\n",
       "      <td>0.751770</td>\n",
       "      <td>1.354446</td>\n",
       "      <td>-1.110052</td>\n",
       "      <td>1.613424</td>\n",
       "      <td>1.144288</td>\n",
       "    </tr>\n",
       "    <tr>\n",
       "      <td>F</td>\n",
       "      <td>1.460539</td>\n",
       "      <td>1.653071</td>\n",
       "      <td>0.921513</td>\n",
       "      <td>1.064321</td>\n",
       "      <td>-1.152016</td>\n",
       "    </tr>\n",
       "    <tr>\n",
       "      <td>G</td>\n",
       "      <td>0.649922</td>\n",
       "      <td>1.808667</td>\n",
       "      <td>1.013348</td>\n",
       "      <td>1.257225</td>\n",
       "      <td>1.857534</td>\n",
       "    </tr>\n",
       "    <tr>\n",
       "      <td>H</td>\n",
       "      <td>2.046193</td>\n",
       "      <td>2.142777</td>\n",
       "      <td>1.081596</td>\n",
       "      <td>-1.734132</td>\n",
       "      <td>0.690210</td>\n",
       "    </tr>\n",
       "    <tr>\n",
       "      <td>I</td>\n",
       "      <td>0.297160</td>\n",
       "      <td>0.379639</td>\n",
       "      <td>0.215575</td>\n",
       "      <td>1.034935</td>\n",
       "      <td>1.129646</td>\n",
       "    </tr>\n",
       "    <tr>\n",
       "      <td>J</td>\n",
       "      <td>1.398181</td>\n",
       "      <td>-0.666738</td>\n",
       "      <td>0.240318</td>\n",
       "      <td>1.963701</td>\n",
       "      <td>0.234643</td>\n",
       "    </tr>\n",
       "  </tbody>\n",
       "</table>\n",
       "</div>"
      ],
      "text/plain": [
       "    Project      Exam       HW1       HW2       HW3\n",
       "A  1.107875  0.790535  1.416473  0.951145  1.556353\n",
       "B  0.349375 -0.180913  1.418652  0.130512  0.689288\n",
       "C -0.277072  2.220043  2.335409  3.277101  0.811588\n",
       "D  1.624289  1.935197 -0.335732 -0.576438  0.771470\n",
       "E  0.751770  1.354446 -1.110052  1.613424  1.144288\n",
       "F  1.460539  1.653071  0.921513  1.064321 -1.152016\n",
       "G  0.649922  1.808667  1.013348  1.257225  1.857534\n",
       "H  2.046193  2.142777  1.081596 -1.734132  0.690210\n",
       "I  0.297160  0.379639  0.215575  1.034935  1.129646\n",
       "J  1.398181 -0.666738  0.240318  1.963701  0.234643"
      ]
     },
     "execution_count": 8,
     "metadata": {},
     "output_type": "execute_result"
    }
   ],
   "source": [
    "df1 = pd.DataFrame(np.random.normal(loc = 0.85, size = (10,5)), index = ('A', 'B', 'C', 'D', 'E', 'F', 'G', 'H', 'I', 'J') , columns = ('Project', 'Exam', 'HW1', 'HW2', 'HW3'))\n",
    "df1"
   ]
  },
  {
   "cell_type": "markdown",
   "metadata": {},
   "source": [
    "## Task 3a: Import the iris.csv file\n",
    "\n",
    "+ Import the iris dataset.\n",
    "+ Take a look at the `pd.read_csv` online documentation. Write example code in a Markup cell for how you would import this file if it were tab-delimited."
   ]
  },
  {
   "cell_type": "code",
   "execution_count": 11,
   "metadata": {},
   "outputs": [],
   "source": [
    "iris = pd.read_csv('Data-Analytics-With-Python/Data-Analytics-With-Python/iris.csv')"
   ]
  },
  {
   "cell_type": "markdown",
   "metadata": {},
   "source": [
    "## Task 4a: Explore Data\n",
    "\n",
    " + Use `head`, `tail` and `sample` with the iris dataset.\n",
    " + Do the same with the dataset you created in task 2c."
   ]
  },
  {
   "cell_type": "code",
   "execution_count": 17,
   "metadata": {},
   "outputs": [
    {
     "name": "stdout",
     "output_type": "stream",
     "text": [
      "head of iris:\n",
      "    sepal_length  sepal_width  petal_length  petal_width species\n",
      "0           5.1          3.5           1.4          0.2  setosa\n",
      "1           4.9          3.0           1.4          0.2  setosa\n",
      "2           4.7          3.2           1.3          0.2  setosa\n",
      "3           4.6          3.1           1.5          0.2  setosa\n",
      "4           5.0          3.6           1.4          0.2  setosa\n",
      "\n",
      "tail of iris:\n",
      "      sepal_length  sepal_width  petal_length  petal_width    species\n",
      "145           6.7          3.0           5.2          2.3  virginica\n",
      "146           6.3          2.5           5.0          1.9  virginica\n",
      "147           6.5          3.0           5.2          2.0  virginica\n",
      "148           6.2          3.4           5.4          2.3  virginica\n",
      "149           5.9          3.0           5.1          1.8  virginica\n",
      "\n",
      "sample of iris:\n",
      "      sepal_length  sepal_width  petal_length  petal_width     species\n",
      "58            6.6          2.9           4.6          1.3  versicolor\n",
      "88            5.6          3.0           4.1          1.3  versicolor\n",
      "140           6.7          3.1           5.6          2.4   virginica\n",
      "0             5.1          3.5           1.4          0.2      setosa\n",
      "19            5.1          3.8           1.5          0.3      setosa\n",
      "\n",
      "head of df1:\n",
      "     Project      Exam       HW1       HW2       HW3\n",
      "A  1.107875  0.790535  1.416473  0.951145  1.556353\n",
      "B  0.349375 -0.180913  1.418652  0.130512  0.689288\n",
      "C -0.277072  2.220043  2.335409  3.277101  0.811588\n",
      "D  1.624289  1.935197 -0.335732 -0.576438  0.771470\n",
      "E  0.751770  1.354446 -1.110052  1.613424  1.144288\n",
      "\n",
      "tail of df1:\n",
      "     Project      Exam       HW1       HW2       HW3\n",
      "F  1.460539  1.653071  0.921513  1.064321 -1.152016\n",
      "G  0.649922  1.808667  1.013348  1.257225  1.857534\n",
      "H  2.046193  2.142777  1.081596 -1.734132  0.690210\n",
      "I  0.297160  0.379639  0.215575  1.034935  1.129646\n",
      "J  1.398181 -0.666738  0.240318  1.963701  0.234643\n",
      "\n",
      "sample of df1:\n",
      "     Project      Exam       HW1       HW2       HW3\n",
      "F  1.460539  1.653071  0.921513  1.064321 -1.152016\n",
      "G  0.649922  1.808667  1.013348  1.257225  1.857534\n",
      "A  1.107875  0.790535  1.416473  0.951145  1.556353\n",
      "J  1.398181 -0.666738  0.240318  1.963701  0.234643\n",
      "H  2.046193  2.142777  1.081596 -1.734132  0.690210\n"
     ]
    }
   ],
   "source": [
    "#first set of rows of pd.DataFrame\n",
    "print(\"head of iris:\\n\", iris.head())\n",
    "#last 5 rows\n",
    "print(\"\\ntail of iris:\\n\", iris.tail())\n",
    "#random 5 rows\n",
    "print(\"\\nsample of iris:\\n\", iris.sample(5))\n",
    "print(\"\\nhead of df1:\\n\", df1.head())\n",
    "print(\"\\ntail of df1:\\n\", df1.tail())\n",
    "print(\"\\nsample of df1:\\n\", df1.sample(5))"
   ]
  },
  {
   "cell_type": "markdown",
   "metadata": {},
   "source": [
    "## Task 5a: Viewing columns and rows\n",
    "\n",
    "+ Display the columns and indexes of the iris dataset.\n",
    "+ Do the same with the dataset you created in Task 2c."
   ]
  },
  {
   "cell_type": "code",
   "execution_count": 18,
   "metadata": {},
   "outputs": [
    {
     "name": "stdout",
     "output_type": "stream",
     "text": [
      "column names iris:\n",
      " Index(['sepal_length', 'sepal_width', 'petal_length', 'petal_width',\n",
      "       'species'],\n",
      "      dtype='object')\n",
      "\n",
      "row indexes iris:\n",
      " RangeIndex(start=0, stop=150, step=1)\n",
      "\n",
      "column names df1:\n",
      " Index(['Project', 'Exam', 'HW1', 'HW2', 'HW3'], dtype='object')\n",
      "\n",
      "row indexes df1:\n",
      " Index(['A', 'B', 'C', 'D', 'E', 'F', 'G', 'H', 'I', 'J'], dtype='object')\n"
     ]
    }
   ],
   "source": [
    "print(\"column names iris:\\n\", iris.columns)\n",
    "print(\"\\nrow indexes iris:\\n\", iris.index)\n",
    "print(\"\\ncolumn names df1:\\n\", df1.columns)\n",
    "print(\"\\nrow indexes df1:\\n\", df1.index)"
   ]
  },
  {
   "cell_type": "markdown",
   "metadata": {},
   "source": [
    "## Task 5b: Get Values\n",
    "\n",
    "+ Check the version of `pandas` you have \n",
    "+ Use the appropriate method to convert the iris data to a dictionary.\n",
    "+ Do the same with the dataset you created in Task 2c.\n"
   ]
  },
  {
   "cell_type": "code",
   "execution_count": 23,
   "metadata": {},
   "outputs": [],
   "source": [
    "pd.__version__\n",
    "arr = iris.to_dict()\n",
    "arr2 = df1.to_dict()"
   ]
  },
  {
   "cell_type": "markdown",
   "metadata": {},
   "source": [
    "## Task 5c: Using `loc`\n",
    "\n",
    "+ Use any iris dataframe to:\n",
    "  + Select a row slice with `loc`.\n",
    "  + Select a row and column slice with `loc`.\n",
    "  + Take a look at the [Pandas documentation for the `at` selector](https://pandas.pydata.org/pandas-docs/stable/reference/api/pandas.DataFrame.at.html). Use what you learn there to select a single item with Pandas `at` accessor."
   ]
  },
  {
   "cell_type": "code",
   "execution_count": 29,
   "metadata": {},
   "outputs": [
    {
     "name": "stdout",
     "output_type": "stream",
     "text": [
      "row slice:\n",
      "    sepal_length  sepal_width  petal_length  petal_width species\n",
      "2           4.7          3.2           1.3          0.2  setosa\n",
      "3           4.6          3.1           1.5          0.2  setosa\n",
      "4           5.0          3.6           1.4          0.2  setosa\n",
      "5           5.4          3.9           1.7          0.4  setosa\n",
      "\n",
      "row slice & col slice:\n",
      "    sepal_length  sepal_width  petal_length  petal_width\n",
      "2           4.7          3.2           1.3          0.2\n",
      "3           4.6          3.1           1.5          0.2\n",
      "4           5.0          3.6           1.4          0.2\n",
      "5           5.4          3.9           1.7          0.4\n",
      "\n",
      "using at:\n",
      " 1.5\n"
     ]
    }
   ],
   "source": [
    "print(\"row slice:\\n\",iris.loc[2:5])\n",
    "print(\"\\nrow slice & col slice:\\n\",iris.loc[2:5, 'sepal_length':'petal_width'])\n",
    "print(\"\\nusing at:\\n\", iris.at[3,'petal_length'])"
   ]
  },
  {
   "cell_type": "markdown",
   "metadata": {},
   "source": [
    "## Task 5d: Using `iloc`\n",
    "\n",
    "+ Use any iris dataframe to:    \n",
    "    + Select a row slice with `iloc`.\n",
    "    + Select a row and column slice with `iloc`.\n",
    "    + Take a look at the [Pandas documentation for the `iat` selector](https://pandas.pydata.org/pandas-docs/stable/reference/api/pandas.DataFrame.iat.html). Use what you learn there to select a single item with Pandas `iat` accessor.\n",
    "\n"
   ]
  },
  {
   "cell_type": "code",
   "execution_count": 31,
   "metadata": {},
   "outputs": [
    {
     "name": "stdout",
     "output_type": "stream",
     "text": [
      "row slice:\n",
      "    sepal_length  sepal_width  petal_length  petal_width species\n",
      "0           5.1          3.5           1.4          0.2  setosa\n",
      "\n",
      "row & column slice:\n",
      "    sepal_length  sepal_width\n",
      "1           4.9          3.0\n",
      "2           4.7          3.2\n",
      "3           4.6          3.1\n",
      "\n",
      "using iat:\n",
      " 0.2\n"
     ]
    }
   ],
   "source": [
    "print(\"row slice:\\n\",iris.iloc[0:1])\n",
    "print(\"\\nrow & column slice:\\n\",iris.iloc[1:4,0:2])\n",
    "print(\"\\nusing iat:\\n\",iris.iloc[1,3])"
   ]
  },
  {
   "cell_type": "markdown",
   "metadata": {},
   "source": [
    "## Task 5e: Boolean Indexing\n",
    "\n",
    "+ Create subsets of the iris dataset using boolean indexes that:\n",
    "    + Use one boolean operator.\n",
    "    + Use two boolean operators.\n",
    "\n"
   ]
  },
  {
   "cell_type": "code",
   "execution_count": 38,
   "metadata": {},
   "outputs": [
    {
     "name": "stdout",
     "output_type": "stream",
     "text": [
      "one operator:\n",
      " 0      True\n",
      "1      True\n",
      "2      True\n",
      "3      True\n",
      "4      True\n",
      "       ... \n",
      "145    True\n",
      "146    True\n",
      "147    True\n",
      "148    True\n",
      "149    True\n",
      "Name: sepal_width, Length: 150, dtype: bool\n",
      "\n",
      "two operators:\n",
      " 0      False\n",
      "1      False\n",
      "2      False\n",
      "3       True\n",
      "4      False\n",
      "       ...  \n",
      "145    False\n",
      "146    False\n",
      "147    False\n",
      "148    False\n",
      "149    False\n",
      "Length: 150, dtype: bool\n"
     ]
    }
   ],
   "source": [
    "print(\"one operator:\\n\", iris['sepal_width'] < 4)\n",
    "print(\"\\ntwo operators:\\n\", (iris['sepal_length'] < 5) & (iris['petal_length'] > 1.4))"
   ]
  }
 ],
 "metadata": {
  "kernelspec": {
   "display_name": "Python 3",
   "language": "python",
   "name": "python3"
  },
  "language_info": {
   "codemirror_mode": {
    "name": "ipython",
    "version": 3
   },
   "file_extension": ".py",
   "mimetype": "text/x-python",
   "name": "python",
   "nbconvert_exporter": "python",
   "pygments_lexer": "ipython3",
   "version": "3.7.4"
  }
 },
 "nbformat": 4,
 "nbformat_minor": 4
}
