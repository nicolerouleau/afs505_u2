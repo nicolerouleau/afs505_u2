{
 "cells": [
  {
   "cell_type": "markdown",
   "metadata": {},
   "source": [
    "# Lesson 5 Practice: Tidy Data\n",
    "Use this notebook to follow along with the lesson in the corresponding lesson notebook: [L05-Tidy_Data-Lesson.ipynb](./L05-Tidy_Data-Lesson.ipynb).  \n"
   ]
  },
  {
   "cell_type": "markdown",
   "metadata": {},
   "source": [
    "## Instructions\n",
    "Follow along with the teaching material in the lesson. Throughout the tutorial sections labeled as \"Tasks\" are interspersed and indicated with the icon: ![Task](http://icons.iconarchive.com/icons/sbstnblnd/plateau/16/Apps-gnome-info-icon.png). You should follow the instructions provided in these sections by performing them in the practice notebook.  When the tutorial is completed you can turn in the final practice notebook. For each task, use the cell below it to write and test your code.  You may add additional cells for any task as needed or desired.  "
   ]
  },
  {
   "cell_type": "markdown",
   "metadata": {},
   "source": [
    "## Task 1a: Setup\n",
    "<span style=\"float:right; margin-left:10px; clear:both;\">![Task](./media/task-icon.png)</span>\n",
    "\n",
    "Import the following packages:\n",
    "+ `pandas` as `pd`\n",
    "+ `numpy` as `np`"
   ]
  },
  {
   "cell_type": "code",
   "execution_count": 1,
   "metadata": {},
   "outputs": [],
   "source": [
    "import pandas as pd\n",
    "import numpy as np"
   ]
  },
  {
   "cell_type": "markdown",
   "metadata": {},
   "source": [
    "## Task 2a: Understand the data\n",
    "Execute the following code to display the sample data frame:"
   ]
  },
  {
   "cell_type": "code",
   "execution_count": 2,
   "metadata": {},
   "outputs": [
    {
     "data": {
      "text/html": [
       "<div>\n",
       "<style scoped>\n",
       "    .dataframe tbody tr th:only-of-type {\n",
       "        vertical-align: middle;\n",
       "    }\n",
       "\n",
       "    .dataframe tbody tr th {\n",
       "        vertical-align: top;\n",
       "    }\n",
       "\n",
       "    .dataframe thead th {\n",
       "        text-align: right;\n",
       "    }\n",
       "</style>\n",
       "<table border=\"1\" class=\"dataframe\">\n",
       "  <thead>\n",
       "    <tr style=\"text-align: right;\">\n",
       "      <th></th>\n",
       "      <th></th>\n",
       "      <th>Treatment_A</th>\n",
       "      <th>Treatement_B</th>\n",
       "    </tr>\n",
       "  </thead>\n",
       "  <tbody>\n",
       "    <tr>\n",
       "      <td>0</td>\n",
       "      <td>John Smith</td>\n",
       "      <td>NaN</td>\n",
       "      <td>2</td>\n",
       "    </tr>\n",
       "    <tr>\n",
       "      <td>1</td>\n",
       "      <td>Jane Doe</td>\n",
       "      <td>16.0</td>\n",
       "      <td>11</td>\n",
       "    </tr>\n",
       "    <tr>\n",
       "      <td>2</td>\n",
       "      <td>Mary Johnson</td>\n",
       "      <td>3.0</td>\n",
       "      <td>1</td>\n",
       "    </tr>\n",
       "  </tbody>\n",
       "</table>\n",
       "</div>"
      ],
      "text/plain": [
       "                 Treatment_A  Treatement_B\n",
       "0    John Smith          NaN             2\n",
       "1      Jane Doe         16.0            11\n",
       "2  Mary Johnson          3.0             1"
      ]
     },
     "execution_count": 2,
     "metadata": {},
     "output_type": "execute_result"
    }
   ],
   "source": [
    "# Create the data rows and columns.\n",
    "data = [['John Smith', None, 2],\n",
    "        ['Jane Doe', 16, 11],\n",
    "        ['Mary Johnson', 3, 1]]\n",
    "# Create the list of labels for the data frame.\n",
    "headers = ['', 'Treatment_A', 'Treatement_B']\n",
    "# Create the data frame.\n",
    "pd.DataFrame(data, columns=headers)"
   ]
  },
  {
   "cell_type": "markdown",
   "metadata": {},
   "source": [
    "Using the table above, answer the following:\n",
    "\n",
    "What are the variables?"
   ]
  },
  {
   "cell_type": "raw",
   "metadata": {},
   "source": [
    "Treatment_A , Treatment_B are x variables; John Smith, Jane Doe, Mary Johnson are y variables"
   ]
  },
  {
   "cell_type": "markdown",
   "metadata": {},
   "source": [
    "What are the observations?"
   ]
  },
  {
   "cell_type": "raw",
   "metadata": {},
   "source": [
    "(John Smith, Treatment_A), (John Smith, Treatment_B), (Jane Doe, Treatment_A),(Jane Doe, Treatment_B), (Mary Johnson, Treatment_A),(Mary Johnson, Treatment_B)"
   ]
  },
  {
   "cell_type": "markdown",
   "metadata": {},
   "source": [
    "What is the observable unit?"
   ]
  },
  {
   "cell_type": "raw",
   "metadata": {},
   "source": [
    "2, 16.0, 11, 3.0, 1"
   ]
  },
  {
   "cell_type": "markdown",
   "metadata": {},
   "source": [
    "Are the variables columns?"
   ]
  },
  {
   "cell_type": "raw",
   "metadata": {},
   "source": [
    "no, the variables are the headers and indexes names listed earlier"
   ]
  },
  {
   "cell_type": "markdown",
   "metadata": {},
   "source": [
    "Are the observations rows?  "
   ]
  },
  {
   "cell_type": "raw",
   "metadata": {},
   "source": [
    "no, the observation are the (x,y) variables by cell"
   ]
  },
  {
   "cell_type": "markdown",
   "metadata": {},
   "source": [
    "## Task 2b: Explain causes of untidyness\n",
    "\n",
    "Execute the following code to display the sample data frame:"
   ]
  },
  {
   "cell_type": "code",
   "execution_count": 3,
   "metadata": {},
   "outputs": [
    {
     "data": {
      "text/html": [
       "<div>\n",
       "<style scoped>\n",
       "    .dataframe tbody tr th:only-of-type {\n",
       "        vertical-align: middle;\n",
       "    }\n",
       "\n",
       "    .dataframe tbody tr th {\n",
       "        vertical-align: top;\n",
       "    }\n",
       "\n",
       "    .dataframe thead th {\n",
       "        text-align: right;\n",
       "    }\n",
       "</style>\n",
       "<table border=\"1\" class=\"dataframe\">\n",
       "  <thead>\n",
       "    <tr style=\"text-align: right;\">\n",
       "      <th></th>\n",
       "      <th>religion</th>\n",
       "      <th>&lt;$10k</th>\n",
       "      <th>$10-20k</th>\n",
       "      <th>$20-30k</th>\n",
       "      <th>$30-40k</th>\n",
       "      <th>$40-50k</th>\n",
       "      <th>$50-75k</th>\n",
       "    </tr>\n",
       "  </thead>\n",
       "  <tbody>\n",
       "    <tr>\n",
       "      <td>0</td>\n",
       "      <td>Agnostic</td>\n",
       "      <td>27</td>\n",
       "      <td>34</td>\n",
       "      <td>60</td>\n",
       "      <td>81</td>\n",
       "      <td>76</td>\n",
       "      <td>137</td>\n",
       "    </tr>\n",
       "    <tr>\n",
       "      <td>1</td>\n",
       "      <td>Atheist</td>\n",
       "      <td>12</td>\n",
       "      <td>27</td>\n",
       "      <td>37</td>\n",
       "      <td>52</td>\n",
       "      <td>35</td>\n",
       "      <td>70</td>\n",
       "    </tr>\n",
       "    <tr>\n",
       "      <td>2</td>\n",
       "      <td>Buddhist</td>\n",
       "      <td>27</td>\n",
       "      <td>21</td>\n",
       "      <td>30</td>\n",
       "      <td>34</td>\n",
       "      <td>33</td>\n",
       "      <td>58</td>\n",
       "    </tr>\n",
       "    <tr>\n",
       "      <td>3</td>\n",
       "      <td>Catholic</td>\n",
       "      <td>418</td>\n",
       "      <td>617</td>\n",
       "      <td>732</td>\n",
       "      <td>670</td>\n",
       "      <td>638</td>\n",
       "      <td>1116</td>\n",
       "    </tr>\n",
       "    <tr>\n",
       "      <td>4</td>\n",
       "      <td>Don't know/refused</td>\n",
       "      <td>15</td>\n",
       "      <td>14</td>\n",
       "      <td>15</td>\n",
       "      <td>11</td>\n",
       "      <td>10</td>\n",
       "      <td>35</td>\n",
       "    </tr>\n",
       "    <tr>\n",
       "      <td>5</td>\n",
       "      <td>Evangelical Prot</td>\n",
       "      <td>575</td>\n",
       "      <td>869</td>\n",
       "      <td>1064</td>\n",
       "      <td>982</td>\n",
       "      <td>881</td>\n",
       "      <td>1486</td>\n",
       "    </tr>\n",
       "    <tr>\n",
       "      <td>6</td>\n",
       "      <td>Hindu</td>\n",
       "      <td>1</td>\n",
       "      <td>9</td>\n",
       "      <td>7</td>\n",
       "      <td>9</td>\n",
       "      <td>11</td>\n",
       "      <td>34</td>\n",
       "    </tr>\n",
       "    <tr>\n",
       "      <td>7</td>\n",
       "      <td>Historically Black Prot</td>\n",
       "      <td>228</td>\n",
       "      <td>244</td>\n",
       "      <td>236</td>\n",
       "      <td>238</td>\n",
       "      <td>197</td>\n",
       "      <td>223</td>\n",
       "    </tr>\n",
       "    <tr>\n",
       "      <td>8</td>\n",
       "      <td>Jehovah's Witness</td>\n",
       "      <td>20</td>\n",
       "      <td>27</td>\n",
       "      <td>24</td>\n",
       "      <td>24</td>\n",
       "      <td>21</td>\n",
       "      <td>30</td>\n",
       "    </tr>\n",
       "    <tr>\n",
       "      <td>9</td>\n",
       "      <td>Jewish</td>\n",
       "      <td>19</td>\n",
       "      <td>19</td>\n",
       "      <td>25</td>\n",
       "      <td>25</td>\n",
       "      <td>30</td>\n",
       "      <td>95</td>\n",
       "    </tr>\n",
       "  </tbody>\n",
       "</table>\n",
       "</div>"
      ],
      "text/plain": [
       "                  religion  <$10k  $10-20k  $20-30k  $30-40k  $40-50k  $50-75k\n",
       "0                 Agnostic     27       34       60       81       76      137\n",
       "1                  Atheist     12       27       37       52       35       70\n",
       "2                 Buddhist     27       21       30       34       33       58\n",
       "3                 Catholic    418      617      732      670      638     1116\n",
       "4       Don't know/refused     15       14       15       11       10       35\n",
       "5         Evangelical Prot    575      869     1064      982      881     1486\n",
       "6                    Hindu      1        9        7        9       11       34\n",
       "7  Historically Black Prot    228      244      236      238      197      223\n",
       "8        Jehovah's Witness     20       27       24       24       21       30\n",
       "9                   Jewish     19       19       25       25       30       95"
      ]
     },
     "execution_count": 3,
     "metadata": {},
     "output_type": "execute_result"
    }
   ],
   "source": [
    "data = [['Agnostic',27,34,60,81,76,137],\n",
    "        ['Atheist',12,27,37,52,35,70],\n",
    "        ['Buddhist',27,21,30,34,33,58],\n",
    "        ['Catholic',418,617,732,670,638,1116],\n",
    "        ['Don\\'t know/refused',15,14,15,11,10,35],\n",
    "        ['Evangelical Prot',575,869,1064,982,881,1486],\n",
    "        ['Hindu',1,9,7,9,11,34],\n",
    "        ['Historically Black Prot',228,244,236,238,197,223],\n",
    "        ['Jehovah\\'s Witness',20,27,24,24,21,30],\n",
    "        ['Jewish',19,19,25,25,30,95]]\n",
    "headers = ['religion','<$10k','$10-20k','$20-30k','$30-40k','$40-50k','$50-75k']\n",
    "religion = pd.DataFrame(data, columns=headers)\n",
    "religion"
   ]
  },
  {
   "cell_type": "markdown",
   "metadata": {},
   "source": [
    "Explain why the data above is untidy?"
   ]
  },
  {
   "cell_type": "raw",
   "metadata": {},
   "source": [
    "multiple types of observational units are stored in the same table ($ and religion)(not all by $10k, last set is range of $15k)"
   ]
  },
  {
   "cell_type": "markdown",
   "metadata": {},
   "source": [
    "What are the variables?  "
   ]
  },
  {
   "cell_type": "raw",
   "metadata": {},
   "source": [
    "religion, <$10k, $10k-20k, $20k-30k, $30k-40k, $40k-50k, $50-75k"
   ]
  },
  {
   "cell_type": "markdown",
   "metadata": {},
   "source": [
    "What are the observations?"
   ]
  },
  {
   "cell_type": "raw",
   "metadata": {},
   "source": [
    "each different religion paired at each dollar range:\n",
    "(Agnostic, <$10k), (Agnostic, $10k-20k), (Agnostic, $20k-30k), (Agnostic, $30k-40k), (Agnostic, $40k-50k), (Agnostic, $50k-75k) and so on for every single religion"
   ]
  },
  {
   "cell_type": "markdown",
   "metadata": {},
   "source": [
    "## Task 2c: Explain causes of untidyness\n",
    "\n",
    "Execute the following code to display the sample data frame:"
   ]
  },
  {
   "cell_type": "code",
   "execution_count": 4,
   "metadata": {},
   "outputs": [
    {
     "data": {
      "text/html": [
       "<div>\n",
       "<style scoped>\n",
       "    .dataframe tbody tr th:only-of-type {\n",
       "        vertical-align: middle;\n",
       "    }\n",
       "\n",
       "    .dataframe tbody tr th {\n",
       "        vertical-align: top;\n",
       "    }\n",
       "\n",
       "    .dataframe thead th {\n",
       "        text-align: right;\n",
       "    }\n",
       "</style>\n",
       "<table border=\"1\" class=\"dataframe\">\n",
       "  <thead>\n",
       "    <tr style=\"text-align: right;\">\n",
       "      <th></th>\n",
       "      <th>country</th>\n",
       "      <th>year</th>\n",
       "      <th>m014</th>\n",
       "      <th>m1524</th>\n",
       "      <th>m2534</th>\n",
       "      <th>m3544</th>\n",
       "      <th>m4554</th>\n",
       "      <th>m5564</th>\n",
       "      <th>m65</th>\n",
       "      <th>mu</th>\n",
       "      <th>f014</th>\n",
       "    </tr>\n",
       "  </thead>\n",
       "  <tbody>\n",
       "    <tr>\n",
       "      <td>0</td>\n",
       "      <td>AD</td>\n",
       "      <td>2000</td>\n",
       "      <td>0.0</td>\n",
       "      <td>0.0</td>\n",
       "      <td>1.0</td>\n",
       "      <td>0.0</td>\n",
       "      <td>0</td>\n",
       "      <td>0</td>\n",
       "      <td>0.0</td>\n",
       "      <td>None</td>\n",
       "      <td>NaN</td>\n",
       "    </tr>\n",
       "    <tr>\n",
       "      <td>1</td>\n",
       "      <td>AE</td>\n",
       "      <td>2000</td>\n",
       "      <td>2.0</td>\n",
       "      <td>4.0</td>\n",
       "      <td>4.0</td>\n",
       "      <td>6.0</td>\n",
       "      <td>5</td>\n",
       "      <td>12</td>\n",
       "      <td>10.0</td>\n",
       "      <td>None</td>\n",
       "      <td>3.0</td>\n",
       "    </tr>\n",
       "    <tr>\n",
       "      <td>2</td>\n",
       "      <td>AF</td>\n",
       "      <td>2000</td>\n",
       "      <td>52.0</td>\n",
       "      <td>228.0</td>\n",
       "      <td>183.0</td>\n",
       "      <td>149.0</td>\n",
       "      <td>129</td>\n",
       "      <td>94</td>\n",
       "      <td>80.0</td>\n",
       "      <td>None</td>\n",
       "      <td>93.0</td>\n",
       "    </tr>\n",
       "    <tr>\n",
       "      <td>3</td>\n",
       "      <td>AG</td>\n",
       "      <td>2000</td>\n",
       "      <td>0.0</td>\n",
       "      <td>0.0</td>\n",
       "      <td>0.0</td>\n",
       "      <td>0.0</td>\n",
       "      <td>0</td>\n",
       "      <td>0</td>\n",
       "      <td>1.0</td>\n",
       "      <td>None</td>\n",
       "      <td>1.0</td>\n",
       "    </tr>\n",
       "    <tr>\n",
       "      <td>4</td>\n",
       "      <td>AL</td>\n",
       "      <td>2000</td>\n",
       "      <td>2.0</td>\n",
       "      <td>19.0</td>\n",
       "      <td>21.0</td>\n",
       "      <td>14.0</td>\n",
       "      <td>24</td>\n",
       "      <td>19</td>\n",
       "      <td>16.0</td>\n",
       "      <td>None</td>\n",
       "      <td>3.0</td>\n",
       "    </tr>\n",
       "    <tr>\n",
       "      <td>5</td>\n",
       "      <td>AM</td>\n",
       "      <td>2000</td>\n",
       "      <td>2.0</td>\n",
       "      <td>152.0</td>\n",
       "      <td>130.0</td>\n",
       "      <td>131.0</td>\n",
       "      <td>63</td>\n",
       "      <td>26</td>\n",
       "      <td>21.0</td>\n",
       "      <td>None</td>\n",
       "      <td>1.0</td>\n",
       "    </tr>\n",
       "    <tr>\n",
       "      <td>6</td>\n",
       "      <td>AN</td>\n",
       "      <td>2000</td>\n",
       "      <td>0.0</td>\n",
       "      <td>0.0</td>\n",
       "      <td>1.0</td>\n",
       "      <td>2.0</td>\n",
       "      <td>0</td>\n",
       "      <td>0</td>\n",
       "      <td>0.0</td>\n",
       "      <td>None</td>\n",
       "      <td>0.0</td>\n",
       "    </tr>\n",
       "    <tr>\n",
       "      <td>7</td>\n",
       "      <td>AO</td>\n",
       "      <td>2000</td>\n",
       "      <td>186.0</td>\n",
       "      <td>999.0</td>\n",
       "      <td>1003.0</td>\n",
       "      <td>912.0</td>\n",
       "      <td>482</td>\n",
       "      <td>312</td>\n",
       "      <td>194.0</td>\n",
       "      <td>None</td>\n",
       "      <td>247.0</td>\n",
       "    </tr>\n",
       "    <tr>\n",
       "      <td>8</td>\n",
       "      <td>AR</td>\n",
       "      <td>2000</td>\n",
       "      <td>97.0</td>\n",
       "      <td>278.0</td>\n",
       "      <td>594.0</td>\n",
       "      <td>402.0</td>\n",
       "      <td>419</td>\n",
       "      <td>368</td>\n",
       "      <td>330.0</td>\n",
       "      <td>None</td>\n",
       "      <td>121.0</td>\n",
       "    </tr>\n",
       "    <tr>\n",
       "      <td>9</td>\n",
       "      <td>AS</td>\n",
       "      <td>2000</td>\n",
       "      <td>NaN</td>\n",
       "      <td>NaN</td>\n",
       "      <td>NaN</td>\n",
       "      <td>NaN</td>\n",
       "      <td>1</td>\n",
       "      <td>1</td>\n",
       "      <td>NaN</td>\n",
       "      <td>None</td>\n",
       "      <td>NaN</td>\n",
       "    </tr>\n",
       "  </tbody>\n",
       "</table>\n",
       "</div>"
      ],
      "text/plain": [
       "  country  year   m014  m1524   m2534  m3544  m4554  m5564    m65    mu   f014\n",
       "0      AD  2000    0.0    0.0     1.0    0.0      0      0    0.0  None    NaN\n",
       "1      AE  2000    2.0    4.0     4.0    6.0      5     12   10.0  None    3.0\n",
       "2      AF  2000   52.0  228.0   183.0  149.0    129     94   80.0  None   93.0\n",
       "3      AG  2000    0.0    0.0     0.0    0.0      0      0    1.0  None    1.0\n",
       "4      AL  2000    2.0   19.0    21.0   14.0     24     19   16.0  None    3.0\n",
       "5      AM  2000    2.0  152.0   130.0  131.0     63     26   21.0  None    1.0\n",
       "6      AN  2000    0.0    0.0     1.0    2.0      0      0    0.0  None    0.0\n",
       "7      AO  2000  186.0  999.0  1003.0  912.0    482    312  194.0  None  247.0\n",
       "8      AR  2000   97.0  278.0   594.0  402.0    419    368  330.0  None  121.0\n",
       "9      AS  2000    NaN    NaN     NaN    NaN      1      1    NaN  None    NaN"
      ]
     },
     "execution_count": 4,
     "metadata": {},
     "output_type": "execute_result"
    }
   ],
   "source": [
    "data = [['AD', 2000, 0, 0, 1, 0, 0, 0, 0, None, None],\n",
    "        ['AE', 2000, 2, 4, 4, 6, 5, 12, 10, None, 3],\n",
    "        ['AF', 2000, 52, 228, 183, 149, 129, 94, 80, None, 93],\n",
    "        ['AG', 2000, 0, 0, 0, 0, 0, 0, 1, None, 1],\n",
    "        ['AL', 2000, 2, 19, 21, 14, 24, 19, 16, None, 3],\n",
    "        ['AM', 2000, 2, 152, 130, 131, 63, 26, 21, None, 1],\n",
    "        ['AN', 2000, 0, 0, 1, 2, 0, 0, 0, None, 0],\n",
    "        ['AO', 2000, 186, 999, 1003, 912, 482, 312, 194, None, 247],\n",
    "        ['AR', 2000, 97, 278, 594, 402, 419, 368, 330, None, 121],\n",
    "        ['AS', 2000, None, None, None, None, 1, 1, None, None, None]]\n",
    "headers = ['country', 'year', 'm014', 'm1524', 'm2534', 'm3544', 'm4554', 'm5564', \n",
    "           'm65', 'mu', 'f014']\n",
    "demographics = pd.DataFrame(data, columns=headers)\n",
    "demographics"
   ]
  },
  {
   "cell_type": "markdown",
   "metadata": {},
   "source": [
    "Using the dataset above:\n",
    "\n",
    "Explain why the data above is untidy?"
   ]
  },
  {
   "cell_type": "raw",
   "metadata": {},
   "source": [
    "column headers are not exactly all header names, much of it is symbols/ numbers; multiple types of observational units are stored in the same column"
   ]
  },
  {
   "cell_type": "markdown",
   "metadata": {},
   "source": [
    "What are the variables?  "
   ]
  },
  {
   "cell_type": "raw",
   "metadata": {},
   "source": [
    "country, year, m014, m1524, m2434, m3544, m4554, m5564, m65, mu, f014"
   ]
  },
  {
   "cell_type": "markdown",
   "metadata": {},
   "source": [
    "What are the observations?"
   ]
  },
  {
   "cell_type": "raw",
   "metadata": {},
   "source": [
    "the observations would be considered every full row"
   ]
  },
  {
   "cell_type": "markdown",
   "metadata": {},
   "source": [
    "## Task 3a: Melt data, use case #1\n",
    "\n",
    "Using the `pd.melt` function, melt the demographics data introduced in section 2. Be sure to:\n",
    "- Set the colum headers correctly. \n",
    "- Order by country \n",
    "- Print the first 10 lines of the resulting melted dataset.\n",
    "\n",
    "***Note*** The demographics dataset is provided in Task 2c above"
   ]
  },
  {
   "cell_type": "code",
   "execution_count": 14,
   "metadata": {},
   "outputs": [
    {
     "ename": "AttributeError",
     "evalue": "'list' object has no attribute 'columns'",
     "output_type": "error",
     "traceback": [
      "\u001b[0;31m---------------------------------------------------------------------------\u001b[0m",
      "\u001b[0;31mAttributeError\u001b[0m                            Traceback (most recent call last)",
      "\u001b[0;32m<ipython-input-14-729664a7842b>\u001b[0m in \u001b[0;36m<module>\u001b[0;34m\u001b[0m\n\u001b[1;32m      3\u001b[0m \u001b[0;34m\u001b[0m\u001b[0m\n\u001b[1;32m      4\u001b[0m data2 = pd.melt(data, id_vars=['country', 'year'], \n\u001b[0;32m----> 5\u001b[0;31m                 var_name='age', value_name='freq')\n\u001b[0m\u001b[1;32m      6\u001b[0m \u001b[0mdata2\u001b[0m \u001b[0;34m=\u001b[0m \u001b[0mmelted_df\u001b[0m\u001b[0;34m.\u001b[0m\u001b[0msort_values\u001b[0m\u001b[0;34m(\u001b[0m\u001b[0mby\u001b[0m\u001b[0;34m=\u001b[0m\u001b[0;34m[\u001b[0m\u001b[0;34m\"country\"\u001b[0m\u001b[0;34m]\u001b[0m\u001b[0;34m)\u001b[0m\u001b[0;34m\u001b[0m\u001b[0;34m\u001b[0m\u001b[0m\n\u001b[1;32m      7\u001b[0m \u001b[0mdata2\u001b[0m\u001b[0;34m.\u001b[0m\u001b[0mhead\u001b[0m\u001b[0;34m(\u001b[0m\u001b[0;36m10\u001b[0m\u001b[0;34m)\u001b[0m\u001b[0;34m\u001b[0m\u001b[0;34m\u001b[0m\u001b[0m\n",
      "\u001b[0;32m/Applications/anaconda3/lib/python3.7/site-packages/pandas/core/reshape/melt.py\u001b[0m in \u001b[0;36mmelt\u001b[0;34m(frame, id_vars, value_vars, var_name, value_name, col_level)\u001b[0m\n\u001b[1;32m     31\u001b[0m     \u001b[0;31m# If multiindex, gather names of columns on all level for checking presence\u001b[0m\u001b[0;34m\u001b[0m\u001b[0;34m\u001b[0m\u001b[0;34m\u001b[0m\u001b[0m\n\u001b[1;32m     32\u001b[0m     \u001b[0;31m# of `id_vars` and `value_vars`\u001b[0m\u001b[0;34m\u001b[0m\u001b[0;34m\u001b[0m\u001b[0;34m\u001b[0m\u001b[0m\n\u001b[0;32m---> 33\u001b[0;31m     \u001b[0;32mif\u001b[0m \u001b[0misinstance\u001b[0m\u001b[0;34m(\u001b[0m\u001b[0mframe\u001b[0m\u001b[0;34m.\u001b[0m\u001b[0mcolumns\u001b[0m\u001b[0;34m,\u001b[0m \u001b[0mABCMultiIndex\u001b[0m\u001b[0;34m)\u001b[0m\u001b[0;34m:\u001b[0m\u001b[0;34m\u001b[0m\u001b[0;34m\u001b[0m\u001b[0m\n\u001b[0m\u001b[1;32m     34\u001b[0m         \u001b[0mcols\u001b[0m \u001b[0;34m=\u001b[0m \u001b[0;34m[\u001b[0m\u001b[0mx\u001b[0m \u001b[0;32mfor\u001b[0m \u001b[0mc\u001b[0m \u001b[0;32min\u001b[0m \u001b[0mframe\u001b[0m\u001b[0;34m.\u001b[0m\u001b[0mcolumns\u001b[0m \u001b[0;32mfor\u001b[0m \u001b[0mx\u001b[0m \u001b[0;32min\u001b[0m \u001b[0mc\u001b[0m\u001b[0;34m]\u001b[0m\u001b[0;34m\u001b[0m\u001b[0;34m\u001b[0m\u001b[0m\n\u001b[1;32m     35\u001b[0m     \u001b[0;32melse\u001b[0m\u001b[0;34m:\u001b[0m\u001b[0;34m\u001b[0m\u001b[0;34m\u001b[0m\u001b[0m\n",
      "\u001b[0;31mAttributeError\u001b[0m: 'list' object has no attribute 'columns'"
     ]
    }
   ],
   "source": [
    "data2 = pd.melt(data, id_vars=['country', 'year'], \n",
    "                var_name='age', value_name='freq')\n",
    "data2 = melted_df.sort_values(by=[\"country\"])\n",
    "data2.head(10)"
   ]
  },
  {
   "cell_type": "markdown",
   "metadata": {},
   "source": [
    "## Task 3b: Practice with a new dataset\n",
    "\n",
    "Download the [PI_DataSet.txt](https://hivdb.stanford.edu/download/GenoPhenoDatasets/PI_DataSet.txt) file from [HIV Drug Resistance Database](https://hivdb.stanford.edu/pages/genopheno.dataset.html). Store the file in the same directory as the practice notebook for this assignment.\n",
    "\n",
    "***Note***: Choose the file labeled “10935 phenotype results from 1808 isolates”\n",
    "\n",
    "Here is the meaning of data columns:\n",
    "- SeqID:  a numeric identifier for a unique HIV isolate protease sequence.  Note: disruption of the protease inhibits HIV’s ability to reproduce.\n",
    "- The Next 8 columns are identifiers for unique protease inhibitor class drugs.  \n",
    "  - The values in these columns are the fold resistance over wild type (the HIV strain susceptible to all drugs).\n",
    "  - Fold change is the ratio of the drug concentration needed to inhibit the isolate.\n",
    "- The latter columns, with P as a prefix, are the positions of the amino acids in the protease. \n",
    "  - '-' indicates consensus.\n",
    "  - '.' indicates no sequence.\n",
    "  - '#' indicates an insertion. \n",
    "  - '~' indicates a deletion;.\n",
    "  - '*' indicates a stop codon\n",
    "  - a letter indicates one letter Amino Acid substitution. \n",
    "  - two and more amino acid codes indicates a mixture. \n",
    "\n",
    "Import this dataset into your notebook, view the top few rows of the data and respond to these questions:\n",
    "\n",
    "What are the variables?  "
   ]
  },
  {
   "cell_type": "code",
   "execution_count": 20,
   "metadata": {},
   "outputs": [
    {
     "data": {
      "text/plain": [
       "<bound method NDFrame.head of       SeqID  FPV   ATV   IDV   LPV   NFV   SQV  TPV  DRV P1  ... P91 P92 P93  \\\n",
       "0     12861  0.4   NaN   0.5   NaN   7.1   0.5  NaN  NaN  -  ...   -   -   -   \n",
       "1     12862  0.8   NaN   1.2   NaN  24.7   0.9  NaN  NaN  -  ...   -   -   -   \n",
       "2     12863  3.0   NaN   2.8   NaN   2.2   1.0  NaN  NaN  -  ...   -   -   -   \n",
       "3     12864  4.4   NaN   3.9   NaN   3.6   1.7  NaN  NaN  -  ...   -   -   -   \n",
       "4     12865  3.6   NaN   3.6   NaN   6.2   9.0  NaN  NaN  -  ...   -   -   -   \n",
       "...     ...  ...   ...   ...   ...   ...   ...  ...  ... ..  ...  ..  ..  ..   \n",
       "1946   7085  0.4   2.0   1.9   0.9   3.7   2.5  NaN  NaN  -  ...   -   -   -   \n",
       "1947  26857  2.8   3.1   7.4  13.0   8.7   2.1  NaN  NaN  -  ...   -   -   L   \n",
       "1948  81859  0.4   0.4   0.5   0.5   0.5   0.6  NaN  NaN  -  ...   -   -   -   \n",
       "1949  38714  0.8   NaN   1.1   1.1   1.1   1.1  NaN  NaN  -  ...   -   -   -   \n",
       "1950  81847  7.8  63.0  21.0  35.0  54.0  64.0  NaN  NaN  -  ...   -   -   -   \n",
       "\n",
       "     P94 P95 P96 P97 P98 P99  \\\n",
       "0      -   -   -   -   -   -   \n",
       "1      -   -   -   -   -   -   \n",
       "2      -   -   -   -   -   -   \n",
       "3      -   -   -   -   -   -   \n",
       "4      -   -   -   -   -   -   \n",
       "...   ..  ..  ..  ..  ..  ..   \n",
       "1946   -   -   -   -   -   -   \n",
       "1947   -   -   -   -   -   -   \n",
       "1948   -   -   -   -   -   -   \n",
       "1949   -   -   -   -   -   -   \n",
       "1950   -   -   -   -   -   -   \n",
       "\n",
       "                                            CompMutList  \n",
       "0                                      D30N, R57G, N88D  \n",
       "1                          D30N, M46I, R57G, L63P, N88D  \n",
       "2                          M46I, R57G, L63P, V82T, I84V  \n",
       "3                    L10R, M46I, R57G, L63P, V82T, I84V  \n",
       "4                    L10I, R57G, L63P, A71V, I84V, L90M  \n",
       "...                                                 ...  \n",
       "1946  E35D, R57K, L63P, K70R, A71V, I72T, G73S, V77I...  \n",
       "1947  L10I, L19LI, N37D, M46I, I54V, L63P, V82A, L90...  \n",
       "1948                                         N37S, I72V  \n",
       "1949                 I15V, M36I, R41K, L63P, E65D, K70R  \n",
       "1950  L10F, I15V, K20R, L24I, E35D, M36I, N37E, M46I...  \n",
       "\n",
       "[1951 rows x 109 columns]>"
      ]
     },
     "execution_count": 20,
     "metadata": {},
     "output_type": "execute_result"
    }
   ],
   "source": [
    "pid = pd.read_csv(\"https://hivdb.stanford.edu/download/GenoPhenoDatasets/PI_DataSet.txt\", sep = '\\t')\n",
    "pid.head()"
   ]
  },
  {
   "cell_type": "raw",
   "metadata": {},
   "source": [
    "the variables are: SeqID, FPV, ATV, IDV, LPV, NFV, SQV, TPV, DRV, P1 through P99 "
   ]
  },
  {
   "cell_type": "markdown",
   "metadata": {},
   "source": [
    "What are the observations?"
   ]
  },
  {
   "cell_type": "raw",
   "metadata": {},
   "source": [
    "the observations are each full column"
   ]
  },
  {
   "cell_type": "markdown",
   "metadata": {},
   "source": [
    "What are the values?  "
   ]
  },
  {
   "cell_type": "markdown",
   "metadata": {},
   "source": [
    "the values are the individual cells"
   ]
  },
  {
   "cell_type": "markdown",
   "metadata": {},
   "source": [
    "## Task 3c: Practice with a new dataset Part 2\n",
    "\n",
    "Use the data retreived from task 3b, generate a data frame containing a Tidy’ed set of values for drug concentration fold change. BE sure to:\n",
    "\n",
    "- Set the column names as ‘SeqID’, ‘Drug’ and ‘Fold_change’.\n",
    "- Order the data frame first by sequence ID and then by Drup name\n",
    "- Reset the row indexes\n",
    "- Display the first 10 elements."
   ]
  },
  {
   "cell_type": "code",
   "execution_count": 21,
   "metadata": {},
   "outputs": [
    {
     "ename": "TypeError",
     "evalue": "can only concatenate list (not \"tuple\") to list",
     "output_type": "error",
     "traceback": [
      "\u001b[0;31m---------------------------------------------------------------------------\u001b[0m",
      "\u001b[0;31mTypeError\u001b[0m                                 Traceback (most recent call last)",
      "\u001b[0;32m<ipython-input-21-8491953c0cc5>\u001b[0m in \u001b[0;36m<module>\u001b[0;34m\u001b[0m\n\u001b[1;32m      1\u001b[0m \u001b[0;31m#struggled with this, I couldn't identify what anything really was in the table\u001b[0m\u001b[0;34m\u001b[0m\u001b[0;34m\u001b[0m\u001b[0;34m\u001b[0m\u001b[0m\n\u001b[1;32m      2\u001b[0m pid2 = pd.melt(pid, id_vars=['SeqID'], \n\u001b[0;32m----> 3\u001b[0;31m                 var_name=('SeqID','Drug','Fold_change'))\n\u001b[0m\u001b[1;32m      4\u001b[0m \u001b[0mpid2\u001b[0m\u001b[0;34m.\u001b[0m\u001b[0mhead\u001b[0m\u001b[0;34m(\u001b[0m\u001b[0;34m)\u001b[0m\u001b[0;34m\u001b[0m\u001b[0;34m\u001b[0m\u001b[0m\n",
      "\u001b[0;32m/Applications/anaconda3/lib/python3.7/site-packages/pandas/core/reshape/melt.py\u001b[0m in \u001b[0;36mmelt\u001b[0;34m(frame, id_vars, value_vars, var_name, value_name, col_level)\u001b[0m\n\u001b[1;32m    109\u001b[0m         \u001b[0mmdata\u001b[0m\u001b[0;34m[\u001b[0m\u001b[0mcol\u001b[0m\u001b[0;34m]\u001b[0m \u001b[0;34m=\u001b[0m \u001b[0mid_data\u001b[0m\u001b[0;34m\u001b[0m\u001b[0;34m\u001b[0m\u001b[0m\n\u001b[1;32m    110\u001b[0m \u001b[0;34m\u001b[0m\u001b[0m\n\u001b[0;32m--> 111\u001b[0;31m     \u001b[0mmcolumns\u001b[0m \u001b[0;34m=\u001b[0m \u001b[0mid_vars\u001b[0m \u001b[0;34m+\u001b[0m \u001b[0mvar_name\u001b[0m \u001b[0;34m+\u001b[0m \u001b[0;34m[\u001b[0m\u001b[0mvalue_name\u001b[0m\u001b[0;34m]\u001b[0m\u001b[0;34m\u001b[0m\u001b[0;34m\u001b[0m\u001b[0m\n\u001b[0m\u001b[1;32m    112\u001b[0m \u001b[0;34m\u001b[0m\u001b[0m\n\u001b[1;32m    113\u001b[0m     \u001b[0mmdata\u001b[0m\u001b[0;34m[\u001b[0m\u001b[0mvalue_name\u001b[0m\u001b[0;34m]\u001b[0m \u001b[0;34m=\u001b[0m \u001b[0mframe\u001b[0m\u001b[0;34m.\u001b[0m\u001b[0mvalues\u001b[0m\u001b[0;34m.\u001b[0m\u001b[0mravel\u001b[0m\u001b[0;34m(\u001b[0m\u001b[0;34m\"F\"\u001b[0m\u001b[0;34m)\u001b[0m\u001b[0;34m\u001b[0m\u001b[0;34m\u001b[0m\u001b[0m\n",
      "\u001b[0;31mTypeError\u001b[0m: can only concatenate list (not \"tuple\") to list"
     ]
    }
   ],
   "source": [
    "#struggled with this, I couldn't identify what anything really was in the table\n",
    "#also do not understand how reset row indexes or how to utilize pd.melt properly\n",
    "pid2 = pd.melt(pid, id_vars=['SeqID'], \n",
    "                var_name=('SeqID','Drug','Fold_change'))\n",
    "pid2.head()"
   ]
  }
 ],
 "metadata": {
  "kernelspec": {
   "display_name": "Python 3",
   "language": "python",
   "name": "python3"
  },
  "language_info": {
   "codemirror_mode": {
    "name": "ipython",
    "version": 3
   },
   "file_extension": ".py",
   "mimetype": "text/x-python",
   "name": "python",
   "nbconvert_exporter": "python",
   "pygments_lexer": "ipython3",
   "version": "3.7.4"
  }
 },
 "nbformat": 4,
 "nbformat_minor": 4
}
